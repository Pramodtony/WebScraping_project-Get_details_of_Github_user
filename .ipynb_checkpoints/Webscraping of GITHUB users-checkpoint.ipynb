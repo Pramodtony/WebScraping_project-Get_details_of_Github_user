{
 "cells": [
  {
   "cell_type": "code",
   "execution_count": 3,
   "id": "e5101d1b",
   "metadata": {},
   "outputs": [
    {
     "name": "stdout",
     "output_type": "stream",
     "text": [
      "enter any github user name: likhith007\n",
      "------------------------------------------------------------------------------\n",
      "https://avatars.githubusercontent.com/u/77120871?v=4\n",
      "------------------------------------------------------------------------------\n",
      "Total repositories of user likhith007 is 4\n",
      "------------------------------------------------------------------------------\n",
      "list of repositories are:\n",
      "python-code-samples\n",
      "Sample_Repos\n",
      "Rock-Paper-Scissor\n",
      "python_learning\n",
      "Github_profile_Download-using-web-scraping\n"
     ]
    }
   ],
   "source": [
    "# web scraping \n",
    "\n",
    "import requests\n",
    "from bs4 import BeautifulSoup as bs\n",
    "\n",
    "name=input(\"enter any github user name: \")\n",
    "print(\"------------------------------------------------------------------------------\")\n",
    "url=\"https://github.com/\"+name\n",
    "page=requests.get(url)\n",
    "soup=bs(page.content,\"html.parser\")\n",
    "\n",
    "#image=soup.findAll('img')\n",
    "imager=soup.find(\"img\",class_=\"avatar avatar-user width-full border color-bg-primary\")\n",
    "print(imager['src'])\n",
    "\n",
    "print(\"------------------------------------------------------------------------------\")\n",
    "repo_cnt=soup.find(\"span\",class_=\"Counter\")\n",
    "print(\"Total repositories of user {} is {}\".format(name,repo_cnt['title']))\n",
    "\n",
    "\n",
    "print(\"------------------------------------------------------------------------------\")\n",
    "#print(soup)\n",
    "repo_lst=soup.find_all('span',class_=\"repo\")\n",
    "#print(repo_lst)\n",
    "print(\"list of repositories are:\")\n",
    "for i in repo_lst:\n",
    "    print(i['title'])\n"
   ]
  },
  {
   "cell_type": "code",
   "execution_count": null,
   "id": "3527d790",
   "metadata": {},
   "outputs": [],
   "source": []
  },
  {
   "cell_type": "code",
   "execution_count": null,
   "id": "e748a659",
   "metadata": {},
   "outputs": [],
   "source": []
  }
 ],
 "metadata": {
  "kernelspec": {
   "display_name": "Python 3 (ipykernel)",
   "language": "python",
   "name": "python3"
  },
  "language_info": {
   "codemirror_mode": {
    "name": "ipython",
    "version": 3
   },
   "file_extension": ".py",
   "mimetype": "text/x-python",
   "name": "python",
   "nbconvert_exporter": "python",
   "pygments_lexer": "ipython3",
   "version": "3.9.7"
  }
 },
 "nbformat": 4,
 "nbformat_minor": 5
}
