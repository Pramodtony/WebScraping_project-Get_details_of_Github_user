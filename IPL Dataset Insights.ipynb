{
 "cells": [
  {
   "cell_type": "markdown",
   "id": "b3d961ec",
   "metadata": {},
   "source": [
    "# Practice of Pandas,Numpy,Matplotlib and Seaborn"
   ]
  },
  {
   "cell_type": "code",
   "execution_count": 1,
   "id": "ad135aee",
   "metadata": {},
   "outputs": [
    {
     "name": "stdout",
     "output_type": "stream",
     "text": [
      "This is sample one for testing purpose\n"
     ]
    }
   ],
   "source": [
    "with open('D:/IPL_Dataset/sample.txt','r') as file1:\n",
    "    sample=file1.read()\n",
    "    print(sample)\n"
   ]
  },
  {
   "cell_type": "code",
   "execution_count": 2,
   "id": "9926924c",
   "metadata": {},
   "outputs": [
    {
     "name": "stdout",
     "output_type": "stream",
     "text": [
      "This is sample one for testing purpose\n"
     ]
    }
   ],
   "source": [
    "with open('sample.txt','r') as file1:\n",
    "    sample=file1.read()\n",
    "    print(sample)\n"
   ]
  },
  {
   "cell_type": "markdown",
   "id": "2f325f15",
   "metadata": {},
   "source": [
    "Now, lets try to open the players.csv file and see its contents"
   ]
  },
  {
   "cell_type": "code",
   "execution_count": 3,
   "id": "dca0dab1",
   "metadata": {},
   "outputs": [
    {
     "name": "stdout",
     "output_type": "stream",
     "text": [
      "ï»¿Player_Name,DOB,Batting_Hand,Bowling_Skill,Country\n",
      "A Ashish Reddy,24-Feb-91,Right_Hand,Right-arm medium,India\n",
      "A Chandila,05-Dec-83,Right_Hand,Right-arm offbreak,India\n",
      "A Chopra,19-Sep-77,Right_Hand,Right-arm offbreak,India\n",
      "A Choudhary,,Right_hand,Left-arm fast-medium,\n",
      "A Dananjaya,,Right_Hand,Right-arm offbreak,\n",
      "A Flintoff,06-Dec-77,Right_Hand,Right-arm fast-medium,England\n",
      "A Hales,,Right_hand,,\n",
      "A Joseph,,Right_Hand,Right-arm fast,\n",
      "A Kumble,17-Oct-70,Right_Hand,Legbreak googly,India\n",
      "A Mishra,24-Nov-82,Right_Hand,Legbreak,India\n",
      "A Mithun,25-Oct-89,Right_Hand,Right-arm medium,India\n",
      "A Mukund,06-Jan-90,Right_Hand,Legbreak googly,India\n",
      "A Nehra,29-Apr-79,Right_Hand,Left-arm medium-fast,India\n",
      "A Nel,15-Jul-77,Right_Hand,Right-arm fast-medium,South Africa\n",
      "A Roy,,Left_Hand,Slow left-arm orthodox,\n",
      "A Singh,21-Jun-81,Right_Hand,Right-arm medium-fast,India\n",
      "A Symonds,09-Jun-75,Right_Hand,Right-arm offbreak,Australia\n",
      "A Turner,,Right_Hand,,\n",
      "A Uniyal,21-Nov-81,Right_Hand,Left-arm medium,India\n",
      "A Zampa,31-Mar-92,Right_Hand,Legbreak googly,Australia\n",
      "AA Bilakhia,31-May-86,Right_Hand,Right-arm medium,India\n",
      "AA Chavan,28-Oct-85,Right_Hand,Slow left-arm orthodox,India\n",
      "AA Jhunjhunwala,01-Dec-82,Right_Hand,Right-arm offbreak,India\n",
      "AA Kazi,29-Sep-89,Right_Hand,Slow left-arm orthodox,India\n",
      "AA Noffke,30-Apr-77,Right_Hand,Right-arm fast-medium,Australia\n",
      "AB Agarkar,04-Dec-77,Right_Hand,Right-arm fast,India\n",
      "AB Barath,14-Apr-90,Left_Hand,Right-arm offbreak,India\n",
      "AB de Villiers,17-Feb-84,Right_Hand,Right-arm medium,South Africa\n",
      "AB Dinda,25-Mar-84,Right_Hand,Right-arm medium-fast,India\n",
      "AB McDonald,05-Jun-81,Right_Hand,Right-arm fast-medium,Australia\n",
      "Abdur Razzak,15-Jun-82,Left_Hand,Slow left-arm orthodox,Bangladesh\n",
      "AC Blizzard,27-Jun-84,Left_Hand,Left-arm medium,Australia\n",
      "AC Gilchrist,14-Nov-71,Left_Hand,Right-arm offbreak,Australia\n",
      "AC Thomas,09-Feb-77,Right_Hand,Right-arm fast-medium,England\n",
      "AC Voges,04-Oct-79,Right_Hand,Slow left-arm orthodox,Australia\n",
      "AD Mascarenhas,30-Oct-77,Right_Hand,Right-arm fast-medium,England\n",
      "AD Mathews,02-Jun-87,Right_Hand,Right-arm fast-medium,Sri Lanka\n",
      "AD Nath,10-May-93,Right_Hand,Right-arm medium-fast,India\n",
      "AD Russell,29-Apr-88,Right_Hand,Right-arm fast,West Indies\n",
      "AF Milne,13-Apr-92,Right_Hand,Right-arm fast,New Zealand\n",
      "AG Murtaza,01-Jan-90,Left_Hand,Slow left-arm orthodox,India\n",
      "AG Paunikar,18-Apr-88,Right_Hand,NULL,India\n",
      "AJ Finch,17-Nov-86,Right_Hand,Slow left-arm orthodox,Australia\n",
      "AJ Tye,,Right_hand,Right-arm fast-medium,\n",
      "AL Menaria,29-Oct-90,Left_Hand,Slow left-arm orthodox,India\n",
      "AM Nayar,08-Oct-83,Left_Hand,Right-arm medium,India\n",
      "AM Rahane,06-Jun-88,Right_Hand,Right-arm medium,India\n",
      "AM Salvi,20-Oct-81,Right_Hand,Right-arm medium,India\n",
      "AN Ahmed,05-Nov-88,Right_Hand,Right-arm medium-fast,India\n",
      "AN Ghosh,19-Oct-86,Right_Hand,Right-arm medium,India\n",
      "Anand Rajan,17-Apr-87,Right_Hand,Right-arm medium,India\n",
      "Anirudh Singh,02-Aug-80,Left_Hand,Right-arm medium,India\n",
      "Ankit Sharma,20-Apr-91,Left_Hand,Slow left-arm orthodox,India\n",
      "Ankit Soni,,Right_hand,Legbreak,\n",
      "Anureet Singh,02-Mar-88,Right_Hand,Right-arm medium,India\n",
      "AP Dole,09-Oct-87,Right_Hand,Right-arm medium-fast,India\n",
      "AP Majumdar,30-Apr-84,Right_Hand,Legbreak googly,India\n",
      "AP Tare,07-Nov-87,Right_Hand,NULL,India\n",
      "AR Bawne,,Right_Hand,,\n",
      "AR Patel,20-Jan-94,Left_Hand,Slow left-arm orthodox,India\n",
      "AS Rajpoot,04-Dec-93,Right_Hand,Right-arm medium,India\n",
      "AS Raut,03-Mar-87,Right_Hand,Legbreak googly,India\n",
      "AS Yadav,,Right_hand,,\n",
      "AT Rayudu,23-Sep-85,Right_Hand,Right-arm offbreak,India\n",
      "AUK Pathan,17-Jun-84,Right_Hand,Right-arm medium,India\n",
      "AV Wankhade,14-Mar-92,Right_Hand,NULL,India\n",
      "Avesh Khan,,Right_Hand,Right-arm fast-medium,\n",
      "Azhar Mahmood,28-Feb-75,Right_Hand,Right-arm fast-medium,Pakistan\n",
      "B Akhil,07-Oct-77,Right_Hand,Right-arm medium-fast,India\n",
      "B Aparajith,08-Jul-94,Right_Hand,Right-arm offbreak,India\n",
      "B Chipli,27-Jan-83,Right_Hand,Right-arm medium,India\n",
      "B Geeves,13-Jun-82,Right_Hand,Right-arm fast-medium,Australia\n",
      "B Kumar,05-Feb-90,Right_Hand,Right-arm medium,India\n",
      "B Laughlin,03-Oct-82,Right_Hand,Right-arm fast-medium,Australia\n",
      "B Lee,08-Nov-76,Right_Hand,Right-arm fast,Australia\n",
      "B Stanlake,,Right_Hand,Right-arm fast,\n",
      "B Sumanth,10-May-88,Right_Hand,Right-arm medium-fast,India\n",
      "BA Bhatt,13-May-90,Left_Hand,Slow left-arm orthodox,India\n",
      "BA Stokes,,Left_Hand,Right-arm fast-medium,\n",
      "Basil Thampi,,Right_hand,Right-arm fast,\n",
      "BAW Mendis,11-Mar-85,Right_Hand,Right-arm offbreak,Sri Lanka\n",
      "BB McCullum,27-Sep-81,Right_Hand,Right-arm medium,New Zealand\n",
      "BB Samantray,14-Dec-88,Right_Hand,NULL,India\n",
      "BB Sran,10-Dec-92,Left_Hand,Left-arm medium,India\n",
      "BCJ Cutting,30-Jan-87,Right_Hand,Right-arm fast-medium,Australia\n",
      "BE Hendricks,08-Jun-90,Left_Hand,Left-arm fast-medium,South Africa\n",
      "Bipul Sharma,28-Sep-83,Left_Hand,Slow left-arm orthodox,India\n",
      "BJ Haddin,23-Oct-77,Right_Hand,NULL,Australia\n",
      "BJ Hodge,29-Dec-74,Right_Hand,Right-arm offbreak,Australia\n",
      "BJ Rohrer,26-Mar-81,Left_Hand,Right-arm offbreak,Australia\n",
      "BMAJ Mendis,15-Jan-83,Left_Hand,Right-arm offbreak,Sri Lanka\n",
      "BR Dunk,11-Mar-87,Left_Hand,Right-arm fast,Australia\n",
      "BW Hilfenhaus,15-Mar-83,Right_Hand,Right-arm fast,Australia\n",
      "C de Grandhomme,,Right_hand,Legbreak,\n",
      "C Ganapathy,10-Jun-81,Right_Hand,Right-arm medium,India\n",
      "C Ingram,,Left_Hand,Right-arm fast-medium,\n",
      "C Madan,15-Oct-82,Right_Hand,NULL,India\n",
      "C Munro,11-Mar-87,Left_Hand,Right-arm medium-fast,New Zealand\n",
      "C Nanda,29-Mar-79,Right_Hand,Legbreak,India\n",
      "CA Ingram,03-Jul-85,Left_Hand,Legbreak,South Africa\n",
      "CA Lynn,10-Apr-90,Right_Hand,Slow left-arm orthodox,Australia\n",
      "CA Pujara,25-Jan-88,Right_Hand,Legbreak,India\n",
      "CH Gayle,21-Sep-79,Left_Hand,Right-arm offbreak,West Indies\n",
      "CH Morris,30-Apr-87,Right_Hand,Right-arm fast-medium,South Africa\n",
      "CJ Anderson,13-Dec-90,Left_Hand,Left-arm medium-fast,New Zealand\n",
      "CJ Ferguson,21-Nov-84,Right_Hand,Right-arm medium,Australia\n",
      "CJ Jordan,04-Oct-88,Right_Hand,Right-arm fast-medium,England\n",
      "CJ McKay,20-Feb-83,Right_Hand,Right-arm fast-medium,Australia\n",
      "CK Kapugedera,24-Feb-87,Right_Hand,Right-arm medium,Sri Lanka\n",
      "CK Langeveldt,17-Dec-74,Right_Hand,Right-arm fast-medium,England\n",
      "CL White,18-Aug-83,Right_Hand,Legbreak googly,Australia\n",
      "CM Gautam,08-Mar-86,Right_Hand,NULL,India\n",
      "CR Brathwaite,18-Jul-88,Right_Hand,Right-arm fast-medium,West Indies\n",
      "CR Woakes,,Right_hand,Right-arm fast-medium,\n",
      "CRD Fernando,19-Jul-79,Right_Hand,Right-arm fast-medium,Sri Lanka\n",
      "D du Preez,08-Nov-81,Right_Hand,Right-arm fast-medium,South Africa\n",
      "D Kalyankrishna,16-Dec-83,Right_Hand,Right-arm medium-fast,India\n",
      "D Salunkhe,12-Nov-82,Right_Hand,Legbreak,India\n",
      "D Shorey,,Right_hand,,\n",
      "D Short,,Left_Hand,Slow left-arm orthodox,\n",
      "D Wiese,18-May-85,Right_Hand,Right-arm medium-fast,South Africa\n",
      "D Willey,,Right_Hand,Left-arm fast-medium,\n",
      "DA Miller,10-Jun-89,Left_Hand,Right-arm offbreak,South Africa\n",
      "DA Warner,27-Oct-86,Left_Hand,Legbreak,Australia\n",
      "DAJ Bracewell,28-Sep-90,Right_Hand,Right-arm fast-medium,New Zealand\n",
      "DB Das,22-Sep-86,Right_Hand,Legbreak googly,India\n",
      "DB Ravi Teja,05-Sep-87,Right_Hand,Legbreak googly,India\n",
      "DE Bollinger,24-Jul-81,Left_Hand,Left-arm fast-medium,Australia\n",
      "DH Yagnik,22-Jun-83,Left_Hand,NULL,India\n",
      "DJ Bravo,07-Oct-83,Right_Hand,Right-arm medium-fast,West Indies\n",
      "DJ Harris,31-Dec-79,Right_Hand,Right-arm medium,Australia\n",
      "DJ Hooda,19-Apr-95,Right_Hand,Right-arm offbreak,India\n",
      "DJ Hussey,15-Jul-77,Right_Hand,Right-arm offbreak,Australia\n",
      "DJ Jacobs,04-Nov-82,Right_Hand,Right-arm medium,South Africa\n",
      "DJ Muthuswami,09-Mar-81,Right_Hand,Right-arm medium,India\n",
      "DJ Thornely,01-Oct-78,Right_Hand,Right-arm medium,Australia\n",
      "DJG Sammy,20-Dec-83,Right_Hand,Right-arm medium-fast,West Indies\n",
      "DL Chahar,07-Aug-92,Right_Hand,Right-arm medium,India\n",
      "DL Vettori,27-Jan-79,Left_Hand,Slow left-arm orthodox,New Zealand\n",
      "DM Bravo,,Left_Hand,,\n",
      "DNT Zoysa,13-May-78,Left_Hand,Left-arm fast-medium,Sri Lanka\n",
      "DP Nannes,16-May-76,Right_Hand,Left-arm fast,Australia\n",
      "DP Vijaykumar,20-Oct-86,Right_Hand,Right-arm medium,India\n",
      "DPMD Jayawardene,27-May-77,Right_Hand,Right-arm medium,Sri Lanka\n",
      "DR Martyn,21-Oct-71,Right_Hand,Right-arm medium,Australia\n",
      "DR Smith,12-Apr-83,Right_Hand,Right-arm medium,West Indies\n",
      "DS Kulkarni,10-Dec-88,Right_Hand,Right-arm medium,India\n",
      "DS Lehmann,05-Feb-70,Left_Hand,Slow left-arm orthodox,Australia\n",
      "DT Christian,04-May-83,Right_Hand,Right-arm fast-medium,Australia\n",
      "DT Patil,06-Dec-84,Right_Hand,NULL,India\n",
      "DW Steyn,27-Jun-83,Right_Hand,Right-arm fast,South Africa\n",
      "E Lewis,,Left_Hand,,\n",
      "EJG Morgan,10-Sep-86,Left_Hand,Right-arm medium,England\n",
      "ER Dwivedi,22-Jul-88,Right_Hand,NULL,India\n",
      "F Behardien,09-Oct-83,Right_Hand,Right-arm fast-medium,South Africa\n",
      "F du Plessis,13-Jul-84,Right_Hand,Legbreak,South Africa\n",
      "FH Edwards,06-Feb-82,Right_Hand,Right-arm fast,West Indies\n",
      "FY Fazal,07-Sep-85,Left_Hand,Right-arm medium,India\n",
      "G Gambhir,14-Oct-81,Left_Hand,Legbreak,India\n",
      "Gagandeep Singh,03-Oct-81,Right_Hand,Right-arm medium-fast,India\n",
      "GB Hogg,06-Feb-71,Left_Hand,Slow left-arm chinaman,Australia\n",
      "GC Smith,01-Feb-81,Left_Hand,Right-arm offbreak,South Africa\n",
      "GD McGrath,09-Feb-70,Right_Hand,Right-arm fast-medium,Australia\n",
      "GH Vihari,13-Oct-93,Right_Hand,Right-arm offbreak,India\n",
      "GJ Bailey,07-Sep-82,Right_Hand,Right-arm medium,Australia\n",
      "GJ Maxwell,14-Oct-88,Right_Hand,Right-arm offbreak,Australia\n",
      "GR Napier,06-Jan-80,Right_Hand,Right-arm medium,England\n",
      "GS Sandhu,14-Jun-93,Left_Hand,Right-arm fast-medium,Australia\n",
      "Gurkeerat Singh,29-Jun-90,Right_Hand,Right-arm offbreak,India\n",
      "H Brar,,Left_Hand,Slow left-arm orthodox,\n",
      "H Das,10-Dec-86,Right_Hand,NULL,India\n",
      "H Gurney,,Right_Hand,Right-arm fast-medium,\n",
      "H Klaasen,,Right_hand,,\n",
      "H Vihari,,Right_hand,Right-arm offbreak,\n",
      "H Viljoen,,Right_hand,Right-arm fast,\n",
      "Harbhajan Singh,03-Jul-80,Right_Hand,Right-arm offbreak,India\n",
      "Harmeet Singh,07-Sep-92,Left_Hand,Slow left-arm orthodox,India\n",
      "Harmeet Singh (2),,Right_Hand,Right-arm fast-medium,\n",
      "Harpreet Singh,11-Aug-91,Left_Hand,Right-arm medium,India\n",
      "HH Gibbs,23-Feb-74,Right_Hand,Right-arm bowler,South Africa\n",
      "HH Pandya,11-Oct-93,Right_Hand,Right-arm medium-fast,India\n",
      "HM Amla,31-Mar-83,Right_Hand,Right-arm offbreak,South Africa\n",
      "HV Patel,23-Nov-90,Right_Hand,Right-arm medium,India\n",
      "I Malhotra,23-May-84,Right_Hand,Right-arm medium-fast,India\n",
      "I Sharma,02-Sep-88,Right_Hand,Right-arm fast-medium,India\n",
      "I Sodhi,,Right_hand,Legbreak googly,\n",
      "IC Pandey,15-Aug-89,Right_Hand,Right-arm medium,India\n",
      "IK Pathan,27-Oct-84,Left_Hand,Left-arm medium-fast,India\n",
      "Imran Tahir,27-Mar-79,Right_Hand,Legbreak googly,India\n",
      "Iqbal Abdulla,02-Dec-89,Left_Hand,Slow left-arm orthodox,India\n",
      "IR Jaggi,27-Jan-89,Right_Hand,Legbreak googly,India\n",
      "Ishan Kishan,18-Jul-98,Left_Hand,NULL,India\n",
      "J Archer,,Right_hand,Right-arm fast,\n",
      "J Arunkumar,18-Jan-75,Right_Hand,Right-arm offbreak,India\n",
      "J Bairstow,,Right_hand,,\n",
      "J Behrendorff,,Right_Hand,Left-arm fast-medium,\n",
      "J Botha,02-May-82,Right_Hand,Right-arm offbreak,South Africa\n",
      "J Dala,,,Right-arm Medium,\n",
      "J Denly,,Right_hand,,\n",
      "J Searles,,Right_hand,Right-arm fast-medium,\n",
      "J Suchith,16-Jan-94,Left_Hand,Slow left-arm orthodox,India\n",
      "J Syed Mohammad,03-Jun-83,Left_Hand,Slow left-arm orthodox,India\n",
      "J Theron,24-Jul-85,Right_Hand,Right-arm medium-fast,South Africa\n",
      "J Yadav,22-Jan-90,Right_Hand,Right-arm offbreak,India\n",
      "JA Morkel,10-Jun-81,Left_Hand,Right-arm medium-fast,South Africa\n",
      "Jaskaran Singh,04-Sep-89,Right_Hand,Right-arm medium,India\n",
      "JC Buttler,08-Sep-90,Right_Hand,NULL,England\n",
      "JD Ryder,06-Aug-84,Left_Hand,Right-arm medium,New Zealand\n",
      "JD Unadkat,18-Oct-91,Right_Hand,Left-arm medium,India\n",
      "JDP Oram,28-Jul-78,Left_Hand,Right-arm fast-medium,New Zealand\n",
      "JDS Neesham,17-Sep-90,Left_Hand,Right-arm medium,New Zealand\n",
      "JE Taylor,22-Jun-84,Right_Hand,Right-arm fast,New Zealand\n",
      "JEC Franklin,07-Nov-80,Left_Hand,Left-arm medium,New Zealand\n",
      "JH Kallis,16-Oct-75,Right_Hand,Right-arm fast-medium,South Africa\n",
      "JJ Bumrah,06-Dec-93,Right_Hand,Right-arm medium,India\n",
      "JJ Roy,,Right_hand,,\n",
      "JJ van der Wath,10-Jan-78,Right_Hand,Right-arm medium-fast,South Africa\n",
      "JM Kemp,02-Oct-77,Right_Hand,Right-arm fast-medium,South Africa\n",
      "JO Holder,05-Nov-91,Right_Hand,Right-arm medium-fast,West Indies\n",
      "Joginder Sharma,23-Oct-83,Right_Hand,Right-arm fast-medium,India\n",
      "JP Duminy,14-Apr-84,Left_Hand,Right-arm offbreak,South Africa\n",
      "JP Faulkner,29-Apr-90,Right_Hand,Left-arm fast-medium,Australia\n",
      "JR Hopes,24-Oct-78,Right_Hand,Right-arm medium,Australia\n",
      "JW Hastings,04-Nov-85,Right_Hand,Right-arm fast-medium,Australia\n",
      "K Ahmed,,Right_hand,Left-arm fast-medium,\n",
      "K Goel,24-Dec-86,Left_Hand,Right-arm offbreak,India\n",
      "K Gowtham,,Right_hand,Right-arm offbreak,\n",
      "K Khejroliya,,Right_Hand,Left-arm fast-medium,\n",
      "K Paul,,Right_hand,Right-arm fast-medium,\n",
      "K Rabada,,Left_Hand,Right-arm fast,\n",
      "K Santokie,20-Dec-84,Left_Hand,Left-arm medium,West Indies\n",
      "K Upadhyay,18-Jun-86,Right_Hand,Right-arm medium,India\n",
      "KA Pollard,12-May-87,Right_Hand,Right-arm medium-fast,West Indies\n",
      "KAJ Roach,30-Jun-88,Right_Hand,Right-arm fast,West Indies\n",
      "Kamran Akmal,13-Jan-82,Right_Hand,NULL,Pakistan\n",
      "Kamran Khan,10-Mar-91,Left_Hand,Left-arm medium-fast,India\n",
      "Karanveer Singh,08-Nov-87,Right_Hand,Legbreak googly,India\n",
      "KB Arun Karthik,15-Feb-86,Right_Hand,Legbreak googly,India\n",
      "KC Cariappa,13-Apr-94,Right_Hand,Legbreak,India\n",
      "KC Sangakkara,27-Oct-77,Left_Hand,Right-arm offbreak,Sri Lanka\n",
      "KD Karthik,01-Jun-85,Right_Hand,NULL,India\n",
      "KH Devdhar,14-Dec-89,Right_Hand,NULL,India\n",
      "KH Pandya,24-Mar-91,Left_Hand,Slow left-arm orthodox,India\n",
      "KJ Abbott,18-Jun-87,Right_Hand,Right-arm fast-medium,South Africa\n",
      "KK Cooper,16-Feb-89,Right_Hand,Right-arm medium,West Indies\n",
      "KK Nair,06-Dec-91,Right_Hand,Right-arm offbreak,India\n",
      "KL Rahul,18-Apr-92,Right_Hand,NULL,India\n",
      "KM Asif,,Right_Hand,Right-arm medium,\n",
      "KM Jadhav,26-Mar-85,Right_Hand,Right-arm offbreak,India\n",
      "KMDN Kulasekara,22-Jul-82,Right_Hand,Right-arm fast-medium,Sri Lanka\n",
      "KP Appanna,20-Dec-88,Right_Hand,Slow left-arm orthodox,India\n",
      "KP Pietersen,27-Jun-80,Right_Hand,Right-arm offbreak,South Africa\n",
      "KS Williamson,08-Aug-90,Right_Hand,Right-arm offbreak,New Zealand\n",
      "Kuldeep Yadav,14-Dec-94,Left_Hand,Slow left-arm chinaman,India\n",
      "KV Sharma,23-Oct-87,Left_Hand,Legbreak googly,India\n",
      "KW Richardson,12-Feb-91,Right_Hand,Right-arm fast-medium,Australia\n",
      "L Ablish,03-Dec-82,Right_Hand,Right-arm medium-fast,India\n",
      "L Balaji,27-Sep-81,Right_Hand,Right-arm medium-fast,India\n",
      "L Ferguson,,Right_Hand,Right-arm fast,\n",
      "L Livingstone,,Right_hand,Right-arm offbreak,\n",
      "L Ngidi,,Right_Hand,Slow left-arm orthodox,\n",
      "L Plunkett,,Right_hand,Right-arm fast,\n",
      "L Ronchi,23-Apr-81,Right_Hand,Right-arm fast,Australia\n",
      "LA Carseldine,17-Nov-75,Left_Hand,Legbreak,Australia\n",
      "LA Pomersbach,28-Sep-84,Left_Hand,Right-arm medium,Australia\n",
      "LH Ferguson,,Right_Hand,Right-arm fast-medium,\n",
      "LJ Wright,07-Mar-85,Right_Hand,Right-arm medium-fast,England\n",
      "LMP Simmons,25-Jan-85,Right_Hand,Right-arm medium-fast,West Indies\n",
      "LPC Silva,14-Dec-79,Right_Hand,Legbreak,Sri Lanka\n",
      "LR Shukla,06-May-81,Right_Hand,Right-arm medium,India\n",
      "LRPL Taylor,08-Mar-84,Right_Hand,Right-arm offbreak,New Zealand\n",
      "M Ali,,Left_Hand,Right-arm offbreak,\n",
      "M Ashwin,08-Sep-90,Right_Hand,Legbreak googly,India\n",
      "M de Lange,13-Oct-90,Right_Hand,Right-arm fast,South Africa\n",
      "M Kaif,01-Dec-80,Right_Hand,Right-arm offbreak,India\n",
      "M Kartik,11-Sep-76,Left_Hand,Slow left-arm orthodox,India\n",
      "M Klinger,04-Jul-80,Right_Hand,NULL,Australia\n",
      "M Lomror,,Left_Hand,Slow left-arm orthodox,\n",
      "M Manhas,12-Oct-79,Right_Hand,Right-arm offbreak,India\n",
      "M Markande,,Right_hand,Legbreak googly,\n",
      "M Morkel,06-Oct-84,Left_Hand,Right-arm fast,South Africa\n",
      "M Muralitharan,17-Apr-72,Right_Hand,Right-arm offbreak,Sri Lanka\n",
      "M Ntini,06-Jul-77,Right_Hand,Right-arm fast,South Africa\n",
      "M Rawat,25-Oct-85,Right_Hand,NULL,India\n",
      "M Santner,,Left_Hand,Slow left-arm orthodox,\n",
      "M Ur Rahman,,Right_hand,Right-arm offbreak,\n",
      "M Vijay,01-Apr-84,Right_Hand,Right-arm offbreak,India\n",
      "M Vohra,18-Jul-93,Right_Hand,Right-arm medium,India\n",
      "M Wood,,Right_hand,Right-arm fast,\n",
      "MA Agarwal,16-Feb-91,Right_Hand,NULL,India\n",
      "MA Khote,22-Apr-80,Right_Hand,Right-arm medium,India\n",
      "MA Starc,30-Jan-90,Left_Hand,Left-arm fast,Australia\n",
      "Mandeep Singh,18-Dec-91,Right_Hand,Right-arm medium,India\n",
      "Mashrafe Mortaza,05-Oct-83,Right_Hand,Right-arm fast-medium,Bangladesh\n",
      "MB Parmar,12-Apr-88,Right_Hand,Right-arm offbreak,India\n",
      "MC Henriques,01-Feb-87,Right_Hand,Right-arm fast-medium,Australia\n",
      "MC Juneja,12-Sep-90,Right_Hand,Right-arm offbreak,India\n",
      "MD Mishra,09-Feb-84,Right_Hand,Right-arm offbreak,India\n",
      "MDKJ Perera,17-Aug-90,Left_Hand,NULL,Sri Lanka\n",
      "MEK Hussey,27-May-75,Left_Hand,Right-arm medium,Australia\n",
      "MF Maharoof,07-Sep-84,Right_Hand,Right-arm fast-medium,India\n",
      "MG Johnson,02-Nov-81,Left_Hand,Left-arm fast,Australia\n",
      "MG Neser,29-Mar-90,Right_Hand,Right-arm medium,Australia\n",
      "Misbah-ul-Haq,28-May-74,Right_Hand,Legbreak,Pakistan\n",
      "MJ Clarke,02-Apr-81,Right_Hand,Slow left-arm orthodox,Australia\n",
      "MJ Guptill,30-Sep-86,Right_Hand,Right-arm offbreak,New Zealand\n",
      "MJ Henry,,Right_Hand,Right-arm fast,\n",
      "MJ Lumb,12-Feb-80,Left_Hand,Right-arm medium,England\n",
      "MJ McClenaghan,11-Jun-86,Left_Hand,Left-arm fast-medium,New Zealand\n",
      "MK Pandey,10-Sep-89,Right_Hand,Right-arm medium,India\n",
      "MK Tiwary,14-Nov-85,Right_Hand,Legbreak googly,India\n",
      "ML Hayden,29-Oct-71,Left_Hand,Right-arm medium,Australia\n",
      "MM Patel,12-Jul-83,Right_Hand,Right-arm medium-fast,India\n",
      "MM Sharma,18-Sep-88,Right_Hand,Right-arm medium,India\n",
      "MN Samuels,05-Feb-81,Right_Hand,Right-arm offbreak,West Indies\n",
      "MN van Wyk,20-Mar-79,Right_Hand,Slow left-arm orthodox,South Africa\n",
      "Mohammad Ashraful,07-Jul-84,Right_Hand,Right-arm offbreak,Bangladesh\n",
      "Mohammad Asif,20-Dec-82,Left_Hand,Right-arm fast-medium,Pakistan\n",
      "Mohammad Hafeez,17-Oct-80,Right_Hand,Right-arm offbreak,Pakistan\n",
      "Mohammad Nabi,,Right_hand,Right-arm offbreak,\n",
      "Mohammed Shami,03-Sep-90,Right_Hand,Right-arm fast-medium,India\n",
      "Mohammed Siraj,,Right_hand,Right-arm fast,\n",
      "MP Stoinis,16-Aug-89,Right_Hand,Right-arm medium,Australia\n",
      "MR Marsh,20-Oct-91,Right_Hand,Right-arm medium,Australia\n",
      "MS Bisla,27-Dec-84,Right_Hand,NULL,India\n",
      "MS Dhoni,07-Jul-81,Right_Hand,Right-arm medium,India\n",
      "MS Gony,04-Jan-84,Right_Hand,Right-arm medium,India\n",
      "MS Wade,26-Dec-87,Left_Hand,Right-arm medium,Australia\n",
      "Mustafizur Rahman,06-Sep-95,Left_Hand,Left-arm fast-medium,Bangladesh\n",
      "MV Boucher,03-Dec-76,Right_Hand,Right-arm medium,South Africa\n",
      "N Naik,,Right_hand,,\n",
      "N Pooran,,Left_Hand,,\n",
      "N Rana,27-Dec-93,Left_Hand,Right-arm offbreak,India\n",
      "N Saini,28-Oct-88,Right_Hand,Right-arm fast,India\n",
      "NB Singh,,Right_Hand,Right-arm fast,\n",
      "ND Doshi,06-Oct-78,Right_Hand,Slow left-arm orthodox,India\n",
      "Niraj Patel,,Left_Hand,,\n",
      "NJ Maddinson,21-Dec-91,Left_Hand,Slow left-arm orthodox,Australia\n",
      "NJ Rimmington,11-Nov-82,Right_Hand,Right-arm fast-medium,Australia\n",
      "NK Patel,26-Mar-81,Left_Hand,NULL,India\n",
      "NL McCullum,01-Sep-80,Right_Hand,Right-arm offbreak,New Zealand\n",
      "NLTC Perera,03-Apr-89,Left_Hand,Right-arm medium-fast,Sri Lanka\n",
      "NM Coulter-Nile,11-Oct-87,Right_Hand,Right-arm fast,Australia\n",
      "NS Naik,09-Nov-94,Right_Hand,NULL,India\n",
      "NV Ojha,20-Jul-83,Right_Hand,NULL,India\n",
      "O Thomas,,Right_Hand,Right-arm fast,\n",
      "OA Shah,22-Oct-78,Right_Hand,Right-arm offbreak,England\n",
      "P Amarnath,01-Jun-82,Right_Hand,Right-arm medium,India\n",
      "P Awana,19-Jul-86,Right_Hand,Right-arm medium,India\n",
      "P Chopra,,Right_hand,,\n",
      "P Dharmani,27-Sep-74,Right_Hand,NULL,India\n",
      "P Dogra,19-Nov-84,Right_Hand,Legbreak,India\n",
      "P Krishna,,Right_hand,Right-arm fast,\n",
      "P Kumar,02-Oct-86,Right_Hand,Right-arm medium,India\n",
      "P Negi,06-Jan-93,Left_Hand,Slow left-arm orthodox,India\n",
      "P Parameswaran,30-May-85,Right_Hand,Left-arm medium,India\n",
      "P Prasanth,22-May-85,Left_Hand,Slow left-arm orthodox,India\n",
      "P R Barman,,Right_hand,Legbreak,\n",
      "P Raj,,Right_Hand,Left-arm medium,\n",
      "P Sahu,21-Aug-85,Right_Hand,Legbreak googly,India\n",
      "P Shaw,,Right_hand,,\n",
      "P Suyal,15-Oct-89,Right_Hand,Left-arm medium,India\n",
      "PA Patel,09-Mar-85,Left_Hand,NULL,India\n",
      "PA Reddy,11-Feb-91,Right_Hand,Legbreak,India\n",
      "Pankaj Singh,06-May-85,Right_Hand,Right-arm medium-fast,India\n",
      "Parvez Rasool,13-Feb-89,Right_Hand,Right-arm offbreak,India\n",
      "PC Valthaty,07-Dec-83,Right_Hand,Right-arm medium,India\n",
      "PD Collingwood,26-May-76,Right_Hand,Right-arm medium,England\n",
      "PJ Cummins,08-May-93,Right_Hand,Right-arm fast,Australia\n",
      "PJ Sangwan,05-Nov-90,Right_Hand,Left-arm medium,India\n",
      "PM Sarvesh Kumar,26-Apr-89,Right_Hand,Right-arm medium,India\n",
      "PP Chawla,24-Dec-88,Left_Hand,Legbreak,India\n",
      "PP Ojha,05-Sep-86,Left_Hand,Slow left-arm orthodox,India\n",
      "PR Shah,03-Nov-87,Right_Hand,NULL,India\n",
      "PSP Handscomb,26-Apr-91,Right_Hand,NULL,Australia\n",
      "PV Tambe,08-Oct-71,Right_Hand,Legbreak,India\n",
      "Q de Kock,17-Dec-92,Left_Hand,NULL,South Africa\n",
      "R Ashwin,17-Sep-86,Right_Hand,Right-arm offbreak,India\n",
      "R Bhatia,22-Oct-79,Right_Hand,Right-arm medium-fast,India\n",
      "R Bhui,,Right_hand,,\n",
      "R Bishnoi,08-Oct-87,Right_Hand,Right-arm medium-fast,India\n",
      "R Dhawan,19-Feb-90,Right_Hand,Right-arm medium-fast,India\n",
      "R Dravid,11-Jan-73,Right_Hand,Right-arm offbreak,India\n",
      "R McLaren,09-Feb-83,Left_Hand,Right-arm medium-fast,South Africa\n",
      "R Ninan,19-Nov-85,Right_Hand,Right-arm offbreak,India\n",
      "R Parag,,Right_hand,Legbreak,\n",
      "R Rampaul,15-Oct-84,Left_Hand,Right-arm fast-medium,West Indies\n",
      "R Salam,,Right_Hand,Right-arm Fast,\n",
      "R Sathish,14-Jan-81,Right_Hand,Right-arm medium,India\n",
      "R Sharma,30-Apr-87,Right_Hand,Right-arm offbreak,India\n",
      "R Shukla,28-Aug-90,Right_Hand,Right-arm medium,India\n",
      "R Singh,,Right_hand,,\n",
      "R Tewatia,20-May-93,Left_Hand,Legbreak,India\n",
      "R Vinay Kumar,12-Feb-84,Right_Hand,Right-arm medium,India\n",
      "RA Jadeja,06-Dec-88,Left_Hand,Slow left-arm orthodox,India\n",
      "RA Shaikh,12-Jun-85,Left_Hand,Left-arm medium,India\n",
      "RA Tripathi,,Right_hand,Right-arm medium,\n",
      "Rashid Khan,,Right_hand,Legbreak googly,\n",
      "RD Chahar,,Right_hand,Legbreak googly,\n",
      "RE Levi,14-Jan-88,Right_Hand,Right-arm medium,South Africa\n",
      "RE van der Merwe,31-Dec-84,Right_Hand,Slow left-arm orthodox,South Africa\n",
      "RG More,02-Feb-92,Right_Hand,Right-arm medium,India\n",
      "RG Sharma,30-Apr-87,Right_Hand,Right-arm offbreak,India\n",
      "RJ Harris,11-Oct-79,Right_Hand,Right-arm fast,Australia\n",
      "RJ Peterson,04-Aug-79,Left_Hand,Slow left-arm orthodox,South Africa\n",
      "RJ Quiney,20-Aug-82,Left_Hand,Right-arm medium,Australia\n",
      "RN ten Doeschate,30-Jun-80,Right_Hand,Right-arm medium-fast,Netherlands\n",
      "RP Singh,06-Dec-85,Right_Hand,Left-arm fast-medium,India\n",
      "RR Bhatkal,01-Sep-85,Right_Hand,Right-arm medium,India\n",
      "RR Bose,27-Feb-79,Right_Hand,Right-arm fast-medium,India\n",
      "RR Pant,04-Oct-97,Left_Hand,NULL,India\n",
      "RR Powar,20-May-78,Right_Hand,Right-arm offbreak,India\n",
      "RR Raje,03-Sep-86,Right_Hand,Right-arm fast-medium,India\n",
      "RR Rossouw,09-Oct-89,Left_Hand,Right-arm offbreak,South Africa\n",
      "RR Sarwan,23-Jun-80,Right_Hand,Legbreak,West Indies\n",
      "RS Bopara,04-May-85,Right_Hand,Right-arm medium,England\n",
      "RS Gavaskar,20-Feb-76,Left_Hand,Slow left-arm orthodox,India\n",
      "RS Sodhi,18-Oct-80,Right_Hand,Right-arm medium,India\n",
      "RT Ponting,19-Dec-74,Right_Hand,Right-arm medium,Australia\n",
      "RV Gomez,16-Oct-85,Right_Hand,Right-arm medium,India\n",
      "RV Pawar,06-Sep-79,Left_Hand,Slow left-arm orthodox,India\n",
      "RV Uthappa,11-Nov-85,Right_Hand,Right-arm medium,India\n",
      "RW Price,12-Jun-76,Right_Hand,Slow left-arm orthodox,Zimbabwea\n",
      "S Anirudha,14-Apr-87,Right_Hand,NULL,India\n",
      "S Aravind,08-Apr-84,Left_Hand,Left-arm medium-fast,India\n",
      "S Badree,09-Mar-81,Right_Hand,Legbreak,West Indies\n",
      "S Badrinath,30-Aug-80,Right_Hand,Right-arm offbreak,India\n",
      "S Chanderpaul,16-Aug-74,Left_Hand,Legbreak,West Indies\n",
      "S Curran,,Left_Hand,Left-arm medium-fast,\n",
      "S Dhawan,05-Dec-85,Left_Hand,Right-arm offbreak,India\n",
      "S Dube,,Left_Hand,Right-arm fast-medium,\n",
      "S Gill,,Right_hand,,\n",
      "S Gopal,04-Sep-93,Right_Hand,Legbreak,India\n",
      "S Hetmyer,,Left_Hand,,\n",
      "S Kaul,19-May-90,Right_Hand,Right-arm medium,India\n",
      "S Kaushik,07-Sep-95,Right_Hand,Slow left-arm chinaman,India\n",
      "S Kuggeleijn,,Right_Hand,Right-arm fast,\n",
      "S Ladda,10-Jul-86,Right_Hand,Legbreak,India\n",
      "S Lamichhane,,Right_hand,Legbreak googly,\n",
      "S Mavi,,Right_hand,Right-arm fast-medium,\n",
      "S Midhun,,,Legbreak,\n",
      "S Nadeem,12-Aug-89,Right_Hand,Slow left-arm orthodox,India\n",
      "S Narwal,16-Apr-82,Left_Hand,Right-arm medium,India\n",
      "S Rana,18-Sep-84,Right_Hand,Right-arm medium-fast,India\n",
      "S Randiv,30-Jan-85,Right_Hand,Right-arm offbreak,Sri Lanka\n",
      "S Rutherford,,Left_Hand,Right-arm fast-medium,\n",
      "S Sharma,,Right_Hand,Right-arm fast-medium,\n",
      "S Singh,,Right_hand,,\n",
      "S Sohal,10-Nov-87,Right_Hand,Legbreak,India\n",
      "S Sreesanth,06-Feb-83,Right_Hand,Right-arm fast-medium,India\n",
      "S Sriram,21-Feb-76,Left_Hand,Slow left-arm orthodox,India\n",
      "S Tyagi,17-Sep-87,Right_Hand,Right-arm medium,India\n",
      "S Vidyut,03-Dec-81,Left_Hand,Slow left-arm orthodox,India\n",
      "S Warrier,,Right_Hand,Right-arm fast-medium,\n",
      "SA Abbott,29-Feb-92,Right_Hand,Right-arm fast-medium,New Zealand\n",
      "SA Asnodkar,29-Mar-84,Right_Hand,Right-arm offbreak,India\n",
      "SA Yadav,14-Sep-90,Right_Hand,Right-arm offbreak,India\n",
      "Sachin Baby,18-Dec-88,Left_Hand,Right-arm offbreak,India\n",
      "Salman Butt,07-Oct-84,Left_Hand,Right-arm offbreak,Pakistan\n",
      "Sandeep Sharma,18-May-93,Right_Hand,Right-arm medium,India\n",
      "SB Bangar,11-Oct-72,Right_Hand,Right-arm medium-fast,India\n",
      "SB Jakati,27-Nov-80,Left_Hand,Slow left-arm orthodox,India\n",
      "SB Joshi,06-Jun-70,Left_Hand,Slow left-arm orthodox,India\n",
      "SB Styris,10-Jul-75,Right_Hand,Right-arm medium,New Zealand\n",
      "SB Wagh,09-Oct-88,Left_Hand,Left-arm medium-fast,India\n",
      "SC Ganguly,08-Jul-72,Left_Hand,Right-arm medium,India\n",
      "SD Chitnis,06-May-87,Right_Hand,Right-arm offbreak,India\n",
      "SD Lad,,Right_hand,,\n",
      "SE Bond,07-Jun-75,Right_Hand,Right-arm fast,New Zealand\n",
      "SE Marsh,09-Jul-83,Left_Hand,Slow left-arm orthodox,Australia\n",
      "Shahid Afridi,01-Mar-80,Right_Hand,Legbreak googly,Pakistan\n",
      "Shakib Al Hasan,24-Mar-87,Left_Hand,Slow left-arm orthodox,Bangladesh\n",
      "Shivam Sharma,09-Sep-93,Right_Hand,Right-arm offbreak,India\n",
      "Shoaib Ahmed,17-Aug-90,Right_Hand,Right-arm fast-medium,Pakistan\n",
      "Shoaib Akhtar,13-Aug-75,Right_Hand,Right-arm fast,Pakistan\n",
      "Shoaib Malik,01-Feb-82,Right_Hand,Right-arm offbreak,Pakistan\n",
      "SJ Srivastava,22-Sep-81,Right_Hand,Left-arm fast-medium,India\n",
      "SK Raina,27-Nov-86,Left_Hand,Right-arm offbreak,India\n",
      "SK Trivedi,04-Sep-82,Right_Hand,Right-arm medium,India\n",
      "SK Warne,13-Sep-69,Right_Hand,Legbreak googly,Australia\n",
      "SL Malinga,28-Aug-83,Right_Hand,Right-arm fast,Sri Lanka\n",
      "SM Boland,11-Apr-89,Right_Hand,Right-arm fast-medium,Australia\n",
      "SM Harwood,01-Mar-74,Right_Hand,Right-arm fast-medium,Australia\n",
      "SM Katich,21-Aug-75,Left_Hand,Slow left-arm chinaman,Australia\n",
      "SM Pollock,16-Jul-73,Right_Hand,Right-arm fast-medium,South Africa\n",
      "SMSM Senanayake,09-Feb-85,Right_Hand,Right-arm offbreak,Sri Lanka\n",
      "SN Khan,27-Oct-97,Right_Hand,Legbreak,India\n",
      "SN Thakur,16-Oct-91,Right_Hand,Right-arm medium,India\n",
      "Sohail Tanvir,12-Dec-84,Left_Hand,Left-arm medium-fast,Pakistan\n",
      "SP Fleming,01-Apr-73,Left_Hand,NULL,New Zealand\n",
      "SP Goswami,18-May-89,Left_Hand,NULL,India\n",
      "SP Jackson,,Right_hand,,\n",
      "SP Narine,26-May-88,Left_Hand,Right-arm offbreak,West Indies\n",
      "SPD Smith,02-Jun-89,Right_Hand,Legbreak googly,India\n",
      "SR Tendulkar,24-Apr-73,Right_Hand,Right-arm offbreak,India\n",
      "SR Watson,17-Jun-81,Right_Hand,Right-arm fast-medium,Australia\n",
      "SS Agarwal,,Right_Hand,Legbreak googly,\n",
      "SS Iyer,06-Dec-94,Right_Hand,Legbreak googly,India\n",
      "SS Mundhe,27-Oct-88,Right_Hand,Right-arm medium,India\n",
      "SS Sarkar,15-Dec-84,Right_Hand,Right-arm medium,India\n",
      "SS Shaikh,18-Jan-87,Right_Hand,Right-arm medium,India\n",
      "SS Tiwary,30-Dec-89,Left_Hand,NULL,India\n",
      "ST Jayasuriya,30-Jun-69,Left_Hand,Slow left-arm orthodox,Sri Lanka\n",
      "STR Binny,03-Jun-84,Right_Hand,Right-arm medium,India\n",
      "Sunny Gupta,27-Sep-88,Right_Hand,Right-arm offbreak,India\n",
      "Sunny Singh,18-Dec-86,Right_Hand,Right-arm medium-fast,India\n",
      "SV Samson,11-Nov-94,Right_Hand,NULL,India\n",
      "SW Billings,15-Jun-91,Right_Hand,NULL,England\n",
      "SW Tait,22-Feb-83,Right_Hand,Right-arm fast,Australia\n",
      "Swapnil Singh,22-Jan-91,Right_Hand,Slow left-arm orthodox,India\n",
      "T Curran,,Right_hand,Right-arm fast-medium,\n",
      "T Henderson,01-Aug-74,Right_Hand,Right-arm fast-medium,South Africa\n",
      "T Kohli,17-Dec-88,Right_Hand,Right-arm medium,India\n",
      "T Mishra,22-Dec-86,Right_Hand,Right-arm fast-medium,India\n",
      "T Natarajan,,Left_Hand,Left-arm fast-medium,\n",
      "T Shamsi,18-Feb-90,Right_Hand,Slow left-arm chinaman,South Africa\n",
      "T Taibu,14-May-83,Right_Hand,Right-arm medium,Zimbabwea\n",
      "T Thushara,01-Mar-81,Left_Hand,Left-arm fast-medium,Sri Lanka\n",
      "TA Boult,22-Jul-89,Right_Hand,Left-arm fast-medium,New Zealand\n",
      "TD Paine,08-Dec-84,Right_Hand,Right-arm medium,Australia\n",
      "Tejas Baroka,,,Legbreak googly,\n",
      "TG Southee,11-Dec-88,Right_Hand,Right-arm medium-fast,New Zealand\n",
      "TL Suman,15-Dec-83,Right_Hand,Right-arm offbreak,India\n",
      "TM Dilshan,14-Oct-76,Right_Hand,Right-arm offbreak,Sri Lanka\n",
      "TM Head,29-Dec-93,Left_Hand,Right-arm offbreak,Australia\n",
      "TM Srivastava,07-Nov-89,Left_Hand,Right-arm medium,India\n",
      "TP Sudhindra,24-Apr-84,Left_Hand,Right-arm fast,India\n",
      "TR Birt,09-Dec-81,Left_Hand,Right-arm medium,Australia\n",
      "TS Mills,,Right_hand,Left-arm fast,\n",
      "U Kaul,02-Dec-87,Left_Hand,NULL,India\n",
      "UA Birla,17-Nov-89,Right_Hand,Right-arm medium,India\n",
      "UBT Chand,26-Mar-93,Right_Hand,Right-arm offbreak,India\n",
      "Umar Gul,14-Apr-84,Right_Hand,Right-arm fast-medium,Pakistan\n",
      "UT Khawaja,18-Dec-86,Left_Hand,Right-arm medium,Australia\n",
      "UT Yadav,25-Oct-87,Right_Hand,Right-arm fast-medium,India\n",
      "V Chakravarthy,,Right_Hand,Legbreak,\n",
      "V Kohli,05-Nov-88,Right_Hand,Right-arm medium,India\n",
      "V Pratap Singh,03-May-92,Right_Hand,Right-arm medium,India\n",
      "V Sehwag,20-Oct-78,Right_Hand,Right-arm offbreak,India\n",
      "V Shankar,26-Jan-91,Right_Hand,Right-arm medium,India\n",
      "VH Zol,23-Nov-94,Left_Hand,Right-arm offbreak,India\n",
      "Vishnu Vinod,,Right_hand,,\n",
      "VR Aaron,29-Oct-89,Right_Hand,Right-arm fast,India\n",
      "VRV Singh,17-Sep-84,Right_Hand,Right-arm medium-fast,India\n",
      "VS Malik,09-May-83,Right_Hand,Right-arm medium,India\n",
      "VS Yeligati,23-Apr-85,Right_Hand,Right-arm offbreak,India\n",
      "VVS Laxman,01-Nov-74,Right_Hand,Right-arm offbreak,India\n",
      "VY Mahesh,21-Dec-87,Right_Hand,Right-arm medium-fast,India\n",
      "W Jaffer,16-Feb-78,Right_Hand,Right-arm offbreak,India\n",
      "WA Mota,20-Sep-81,Right_Hand,Right-arm medium,India\n",
      "Washington Sundar,,Left_Hand,Right-arm offbreak,\n",
      "WD Parnell,30-Jul-89,Left_Hand,Left-arm medium-fast,South Africa\n",
      "WP Saha,24-Oct-84,Right_Hand,NULL,India\n",
      "WPUJC Vaas,27-Jan-74,Left_Hand,Left-arm fast-medium,Sri Lanka\n",
      "X Thalaivan Sargunam,15-May-85,Right_Hand,Right-arm offbreak,India\n",
      "Y Gnaneswara Rao,25-Aug-84,Right_Hand,Right-arm medium,India\n",
      "Y Nagar,06-Jan-90,Right_Hand,Right-arm offbreak,India\n",
      "Y Venugopal Rao,26-Feb-82,Right_Hand,Right-arm offbreak,India\n",
      "YA Abdulla,17-Jan-83,Left_Hand,Left-arm fast-medium,India\n",
      "Yashpal Singh,27-Nov-81,Right_Hand,Right-arm medium,India\n",
      "YK Pathan,17-Nov-82,Right_Hand,Right-arm offbreak,India\n",
      "Younis Khan,29-Nov-77,Right_Hand,Right-arm medium,Pakistan\n",
      "YS Chahal,23-Jul-90,Right_Hand,Legbreak googly,India\n",
      "Yuvraj Singh,12-Dec-81,Left_Hand,Slow left-arm orthodox,India\n",
      "YV Takawale,05-Nov-84,Right_Hand,NULL,India\n",
      "Z Khan,07-Oct-78,Right_Hand,Left-arm fast-medium,India\n",
      "\n"
     ]
    }
   ],
   "source": [
    "with open('players.csv','r') as file1:\n",
    "    players=file1.read()\n",
    "    print(players)"
   ]
  },
  {
   "cell_type": "code",
   "execution_count": 4,
   "id": "fffb0916",
   "metadata": {},
   "outputs": [
    {
     "data": {
      "text/plain": [
       "str"
      ]
     },
     "execution_count": 4,
     "metadata": {},
     "output_type": "execute_result"
    }
   ],
   "source": [
    "type(players)"
   ]
  },
  {
   "cell_type": "code",
   "execution_count": 5,
   "id": "c8554716",
   "metadata": {},
   "outputs": [
    {
     "name": "stdout",
     "output_type": "stream",
     "text": [
      "A Ashish Reddy,24-Feb-91,Right_Hand,Right-arm medium,India\n"
     ]
    }
   ],
   "source": [
    "with open('players.csv','r') as file1:\n",
    "    players_lines=file1.readlines()\n",
    "    print(players_lines[1].strip())"
   ]
  },
  {
   "cell_type": "code",
   "execution_count": 6,
   "id": "b9a5a62d",
   "metadata": {},
   "outputs": [
    {
     "name": "stdout",
     "output_type": "stream",
     "text": [
      "Requirement already satisfied: pandas in c:\\users\\pramod challapalli\\appdata\\local\\programs\\python\\python39\\lib\\site-packages (1.3.3)\n",
      "Requirement already satisfied: python-dateutil>=2.7.3 in c:\\users\\pramod challapalli\\appdata\\local\\programs\\python\\python39\\lib\\site-packages (from pandas) (2.8.2)\n",
      "Requirement already satisfied: numpy>=1.17.3 in c:\\users\\pramod challapalli\\appdata\\local\\programs\\python\\python39\\lib\\site-packages (from pandas) (1.21.2)\n",
      "Requirement already satisfied: pytz>=2017.3 in c:\\users\\pramod challapalli\\appdata\\local\\programs\\python\\python39\\lib\\site-packages (from pandas) (2021.1)\n",
      "Requirement already satisfied: six>=1.5 in c:\\users\\pramod challapalli\\appdata\\local\\programs\\python\\python39\\lib\\site-packages (from python-dateutil>=2.7.3->pandas) (1.16.0)\n"
     ]
    }
   ],
   "source": [
    "!pip install pandas"
   ]
  },
  {
   "cell_type": "code",
   "execution_count": 7,
   "id": "62b5cb34",
   "metadata": {},
   "outputs": [
    {
     "name": "stdout",
     "output_type": "stream",
     "text": [
      "        Player_Name        DOB Batting_Hand           Bowling_Skill   Country\n",
      "0    A Ashish Reddy  24-Feb-91   Right_Hand        Right-arm medium     India\n",
      "1        A Chandila  05-Dec-83   Right_Hand      Right-arm offbreak     India\n",
      "2          A Chopra  19-Sep-77   Right_Hand      Right-arm offbreak     India\n",
      "3       A Choudhary        NaN   Right_hand    Left-arm fast-medium       NaN\n",
      "4       A Dananjaya        NaN   Right_Hand      Right-arm offbreak       NaN\n",
      "..              ...        ...          ...                     ...       ...\n",
      "561     Younis Khan  29-Nov-77   Right_Hand        Right-arm medium  Pakistan\n",
      "562       YS Chahal  23-Jul-90   Right_Hand         Legbreak googly     India\n",
      "563    Yuvraj Singh  12-Dec-81    Left_Hand  Slow left-arm orthodox     India\n",
      "564     YV Takawale  05-Nov-84   Right_Hand                     NaN     India\n",
      "565          Z Khan  07-Oct-78   Right_Hand    Left-arm fast-medium     India\n",
      "\n",
      "[566 rows x 5 columns]\n"
     ]
    }
   ],
   "source": [
    "import pandas as pd\n",
    "\n",
    "players_df=pd.read_csv('players.csv')\n",
    "print(players_df)"
   ]
  },
  {
   "cell_type": "code",
   "execution_count": 8,
   "id": "3101db51",
   "metadata": {},
   "outputs": [
    {
     "name": "stdout",
     "output_type": "stream",
     "text": [
      "<class 'pandas.core.frame.DataFrame'>\n",
      "RangeIndex: 566 entries, 0 to 565\n",
      "Data columns (total 5 columns):\n",
      " #   Column         Non-Null Count  Dtype \n",
      "---  ------         --------------  ----- \n",
      " 0   Player_Name    566 non-null    object\n",
      " 1   DOB            471 non-null    object\n",
      " 2   Batting_Hand   563 non-null    object\n",
      " 3   Bowling_Skill  502 non-null    object\n",
      " 4   Country        471 non-null    object\n",
      "dtypes: object(5)\n",
      "memory usage: 22.2+ KB\n"
     ]
    }
   ],
   "source": [
    "players_df.info()"
   ]
  },
  {
   "cell_type": "code",
   "execution_count": 9,
   "id": "afc65250",
   "metadata": {},
   "outputs": [
    {
     "data": {
      "text/plain": [
       "(566, 5)"
      ]
     },
     "execution_count": 9,
     "metadata": {},
     "output_type": "execute_result"
    }
   ],
   "source": [
    "players_df.shape"
   ]
  },
  {
   "cell_type": "code",
   "execution_count": 10,
   "id": "9fdfec64",
   "metadata": {},
   "outputs": [
    {
     "data": {
      "text/html": [
       "<div>\n",
       "<style scoped>\n",
       "    .dataframe tbody tr th:only-of-type {\n",
       "        vertical-align: middle;\n",
       "    }\n",
       "\n",
       "    .dataframe tbody tr th {\n",
       "        vertical-align: top;\n",
       "    }\n",
       "\n",
       "    .dataframe thead th {\n",
       "        text-align: right;\n",
       "    }\n",
       "</style>\n",
       "<table border=\"1\" class=\"dataframe\">\n",
       "  <thead>\n",
       "    <tr style=\"text-align: right;\">\n",
       "      <th></th>\n",
       "      <th>Player_Name</th>\n",
       "      <th>DOB</th>\n",
       "      <th>Batting_Hand</th>\n",
       "      <th>Bowling_Skill</th>\n",
       "      <th>Country</th>\n",
       "    </tr>\n",
       "  </thead>\n",
       "  <tbody>\n",
       "    <tr>\n",
       "      <th>count</th>\n",
       "      <td>566</td>\n",
       "      <td>471</td>\n",
       "      <td>563</td>\n",
       "      <td>502</td>\n",
       "      <td>471</td>\n",
       "    </tr>\n",
       "    <tr>\n",
       "      <th>unique</th>\n",
       "      <td>566</td>\n",
       "      <td>457</td>\n",
       "      <td>3</td>\n",
       "      <td>16</td>\n",
       "      <td>11</td>\n",
       "    </tr>\n",
       "    <tr>\n",
       "      <th>top</th>\n",
       "      <td>A Ashish Reddy</td>\n",
       "      <td>30-Apr-87</td>\n",
       "      <td>Right_Hand</td>\n",
       "      <td>Right-arm medium</td>\n",
       "      <td>India</td>\n",
       "    </tr>\n",
       "    <tr>\n",
       "      <th>freq</th>\n",
       "      <td>1</td>\n",
       "      <td>3</td>\n",
       "      <td>373</td>\n",
       "      <td>107</td>\n",
       "      <td>264</td>\n",
       "    </tr>\n",
       "  </tbody>\n",
       "</table>\n",
       "</div>"
      ],
      "text/plain": [
       "           Player_Name        DOB Batting_Hand     Bowling_Skill Country\n",
       "count              566        471          563               502     471\n",
       "unique             566        457            3                16      11\n",
       "top     A Ashish Reddy  30-Apr-87   Right_Hand  Right-arm medium   India\n",
       "freq                 1          3          373               107     264"
      ]
     },
     "execution_count": 10,
     "metadata": {},
     "output_type": "execute_result"
    }
   ],
   "source": [
    "players_df.describe()"
   ]
  },
  {
   "cell_type": "code",
   "execution_count": 11,
   "id": "4b238f8a",
   "metadata": {},
   "outputs": [
    {
     "data": {
      "text/plain": [
       "pandas.core.frame.DataFrame"
      ]
     },
     "execution_count": 11,
     "metadata": {},
     "output_type": "execute_result"
    }
   ],
   "source": [
    "type(players_df)"
   ]
  },
  {
   "cell_type": "code",
   "execution_count": 12,
   "id": "5f90434e",
   "metadata": {},
   "outputs": [
    {
     "data": {
      "text/plain": [
       "Index(['Player_Name', 'DOB', 'Batting_Hand', 'Bowling_Skill', 'Country'], dtype='object')"
      ]
     },
     "execution_count": 12,
     "metadata": {},
     "output_type": "execute_result"
    }
   ],
   "source": [
    "players_df.columns"
   ]
  },
  {
   "cell_type": "code",
   "execution_count": 13,
   "id": "17089550",
   "metadata": {},
   "outputs": [
    {
     "data": {
      "text/plain": [
       "0      A Ashish Reddy\n",
       "1          A Chandila\n",
       "2            A Chopra\n",
       "3         A Choudhary\n",
       "4         A Dananjaya\n",
       "            ...      \n",
       "561       Younis Khan\n",
       "562         YS Chahal\n",
       "563      Yuvraj Singh\n",
       "564       YV Takawale\n",
       "565            Z Khan\n",
       "Name: Player_Name, Length: 566, dtype: object"
      ]
     },
     "execution_count": 13,
     "metadata": {},
     "output_type": "execute_result"
    }
   ],
   "source": [
    "players_df['Player_Name']"
   ]
  },
  {
   "cell_type": "code",
   "execution_count": 14,
   "id": "78a2cd39",
   "metadata": {},
   "outputs": [
    {
     "data": {
      "text/plain": [
       "(566,)"
      ]
     },
     "execution_count": 14,
     "metadata": {},
     "output_type": "execute_result"
    }
   ],
   "source": [
    "players_df['Player_Name'].shape"
   ]
  },
  {
   "cell_type": "code",
   "execution_count": 15,
   "id": "d5332d2a",
   "metadata": {},
   "outputs": [
    {
     "data": {
      "text/plain": [
       "pandas.core.series.Series"
      ]
     },
     "execution_count": 15,
     "metadata": {},
     "output_type": "execute_result"
    }
   ],
   "source": [
    "type(players_df['Player_Name'])"
   ]
  },
  {
   "cell_type": "code",
   "execution_count": 16,
   "id": "e36b49a8",
   "metadata": {},
   "outputs": [
    {
     "data": {
      "text/plain": [
       "'JA Morkel'"
      ]
     },
     "execution_count": 16,
     "metadata": {},
     "output_type": "execute_result"
    }
   ],
   "source": [
    "players_df['Player_Name'][204]"
   ]
  },
  {
   "cell_type": "code",
   "execution_count": 17,
   "id": "bac51149",
   "metadata": {},
   "outputs": [
    {
     "data": {
      "text/plain": [
       "'KL Rahul'"
      ]
     },
     "execution_count": 17,
     "metadata": {},
     "output_type": "execute_result"
    }
   ],
   "source": [
    "players_df.at[246,'Player_Name']"
   ]
  },
  {
   "cell_type": "code",
   "execution_count": 18,
   "id": "7706e7ab",
   "metadata": {},
   "outputs": [
    {
     "data": {
      "text/plain": [
       "0      A Ashish Reddy\n",
       "1          A Chandila\n",
       "2            A Chopra\n",
       "3         A Choudhary\n",
       "4         A Dananjaya\n",
       "            ...      \n",
       "561       Younis Khan\n",
       "562         YS Chahal\n",
       "563      Yuvraj Singh\n",
       "564       YV Takawale\n",
       "565            Z Khan\n",
       "Name: Player_Name, Length: 566, dtype: object"
      ]
     },
     "execution_count": 18,
     "metadata": {},
     "output_type": "execute_result"
    }
   ],
   "source": [
    "players_df.Player_Name"
   ]
  },
  {
   "cell_type": "code",
   "execution_count": 19,
   "id": "b4d185ce",
   "metadata": {},
   "outputs": [
    {
     "data": {
      "text/plain": [
       "'KL Rahul'"
      ]
     },
     "execution_count": 19,
     "metadata": {},
     "output_type": "execute_result"
    }
   ],
   "source": [
    "players_df.Player_Name[246]"
   ]
  },
  {
   "cell_type": "code",
   "execution_count": 20,
   "id": "0c58bf6f",
   "metadata": {},
   "outputs": [
    {
     "data": {
      "text/plain": [
       "Player_Name        KL Rahul\n",
       "DOB               18-Apr-92\n",
       "Batting_Hand     Right_Hand\n",
       "Bowling_Skill           NaN\n",
       "Country               India\n",
       "Name: 246, dtype: object"
      ]
     },
     "execution_count": 20,
     "metadata": {},
     "output_type": "execute_result"
    }
   ],
   "source": [
    "players_df.loc[246]"
   ]
  },
  {
   "cell_type": "code",
   "execution_count": 21,
   "id": "c9d2881b",
   "metadata": {},
   "outputs": [
    {
     "data": {
      "text/html": [
       "<div>\n",
       "<style scoped>\n",
       "    .dataframe tbody tr th:only-of-type {\n",
       "        vertical-align: middle;\n",
       "    }\n",
       "\n",
       "    .dataframe tbody tr th {\n",
       "        vertical-align: top;\n",
       "    }\n",
       "\n",
       "    .dataframe thead th {\n",
       "        text-align: right;\n",
       "    }\n",
       "</style>\n",
       "<table border=\"1\" class=\"dataframe\">\n",
       "  <thead>\n",
       "    <tr style=\"text-align: right;\">\n",
       "      <th></th>\n",
       "      <th>Player_Name</th>\n",
       "      <th>DOB</th>\n",
       "      <th>Batting_Hand</th>\n",
       "      <th>Bowling_Skill</th>\n",
       "      <th>Country</th>\n",
       "    </tr>\n",
       "  </thead>\n",
       "  <tbody>\n",
       "    <tr>\n",
       "      <th>562</th>\n",
       "      <td>YS Chahal</td>\n",
       "      <td>23-Jul-90</td>\n",
       "      <td>Right_Hand</td>\n",
       "      <td>Legbreak googly</td>\n",
       "      <td>India</td>\n",
       "    </tr>\n",
       "    <tr>\n",
       "      <th>563</th>\n",
       "      <td>Yuvraj Singh</td>\n",
       "      <td>12-Dec-81</td>\n",
       "      <td>Left_Hand</td>\n",
       "      <td>Slow left-arm orthodox</td>\n",
       "      <td>India</td>\n",
       "    </tr>\n",
       "    <tr>\n",
       "      <th>564</th>\n",
       "      <td>YV Takawale</td>\n",
       "      <td>05-Nov-84</td>\n",
       "      <td>Right_Hand</td>\n",
       "      <td>NaN</td>\n",
       "      <td>India</td>\n",
       "    </tr>\n",
       "    <tr>\n",
       "      <th>565</th>\n",
       "      <td>Z Khan</td>\n",
       "      <td>07-Oct-78</td>\n",
       "      <td>Right_Hand</td>\n",
       "      <td>Left-arm fast-medium</td>\n",
       "      <td>India</td>\n",
       "    </tr>\n",
       "  </tbody>\n",
       "</table>\n",
       "</div>"
      ],
      "text/plain": [
       "      Player_Name        DOB Batting_Hand           Bowling_Skill Country\n",
       "562     YS Chahal  23-Jul-90   Right_Hand         Legbreak googly   India\n",
       "563  Yuvraj Singh  12-Dec-81    Left_Hand  Slow left-arm orthodox   India\n",
       "564   YV Takawale  05-Nov-84   Right_Hand                     NaN   India\n",
       "565        Z Khan  07-Oct-78   Right_Hand    Left-arm fast-medium   India"
      ]
     },
     "execution_count": 21,
     "metadata": {},
     "output_type": "execute_result"
    }
   ],
   "source": [
    "players_df.tail(4)"
   ]
  },
  {
   "cell_type": "code",
   "execution_count": 22,
   "id": "037132b8",
   "metadata": {},
   "outputs": [
    {
     "data": {
      "text/html": [
       "<div>\n",
       "<style scoped>\n",
       "    .dataframe tbody tr th:only-of-type {\n",
       "        vertical-align: middle;\n",
       "    }\n",
       "\n",
       "    .dataframe tbody tr th {\n",
       "        vertical-align: top;\n",
       "    }\n",
       "\n",
       "    .dataframe thead th {\n",
       "        text-align: right;\n",
       "    }\n",
       "</style>\n",
       "<table border=\"1\" class=\"dataframe\">\n",
       "  <thead>\n",
       "    <tr style=\"text-align: right;\">\n",
       "      <th></th>\n",
       "      <th>Player_Name</th>\n",
       "      <th>DOB</th>\n",
       "      <th>Batting_Hand</th>\n",
       "      <th>Bowling_Skill</th>\n",
       "      <th>Country</th>\n",
       "    </tr>\n",
       "  </thead>\n",
       "  <tbody>\n",
       "    <tr>\n",
       "      <th>0</th>\n",
       "      <td>A Ashish Reddy</td>\n",
       "      <td>24-Feb-91</td>\n",
       "      <td>Right_Hand</td>\n",
       "      <td>Right-arm medium</td>\n",
       "      <td>India</td>\n",
       "    </tr>\n",
       "    <tr>\n",
       "      <th>1</th>\n",
       "      <td>A Chandila</td>\n",
       "      <td>05-Dec-83</td>\n",
       "      <td>Right_Hand</td>\n",
       "      <td>Right-arm offbreak</td>\n",
       "      <td>India</td>\n",
       "    </tr>\n",
       "    <tr>\n",
       "      <th>2</th>\n",
       "      <td>A Chopra</td>\n",
       "      <td>19-Sep-77</td>\n",
       "      <td>Right_Hand</td>\n",
       "      <td>Right-arm offbreak</td>\n",
       "      <td>India</td>\n",
       "    </tr>\n",
       "    <tr>\n",
       "      <th>3</th>\n",
       "      <td>A Choudhary</td>\n",
       "      <td>NaN</td>\n",
       "      <td>Right_hand</td>\n",
       "      <td>Left-arm fast-medium</td>\n",
       "      <td>NaN</td>\n",
       "    </tr>\n",
       "  </tbody>\n",
       "</table>\n",
       "</div>"
      ],
      "text/plain": [
       "      Player_Name        DOB Batting_Hand         Bowling_Skill Country\n",
       "0  A Ashish Reddy  24-Feb-91   Right_Hand      Right-arm medium   India\n",
       "1      A Chandila  05-Dec-83   Right_Hand    Right-arm offbreak   India\n",
       "2        A Chopra  19-Sep-77   Right_Hand    Right-arm offbreak   India\n",
       "3     A Choudhary        NaN   Right_hand  Left-arm fast-medium     NaN"
      ]
     },
     "execution_count": 22,
     "metadata": {},
     "output_type": "execute_result"
    }
   ],
   "source": [
    "players_df.head(4)"
   ]
  },
  {
   "cell_type": "code",
   "execution_count": 23,
   "id": "3398915d",
   "metadata": {
    "scrolled": false
   },
   "outputs": [
    {
     "name": "stdout",
     "output_type": "stream",
     "text": [
      "Help on method first in module pandas.core.generic:\n",
      "\n",
      "first(offset) -> 'FrameOrSeries' method of pandas.core.frame.DataFrame instance\n",
      "    Select initial periods of time series data based on a date offset.\n",
      "    \n",
      "    When having a DataFrame with dates as index, this function can\n",
      "    select the first few rows based on a date offset.\n",
      "    \n",
      "    Parameters\n",
      "    ----------\n",
      "    offset : str, DateOffset or dateutil.relativedelta\n",
      "        The offset length of the data that will be selected. For instance,\n",
      "        '1M' will display all the rows having their index within the first month.\n",
      "    \n",
      "    Returns\n",
      "    -------\n",
      "    Series or DataFrame\n",
      "        A subset of the caller.\n",
      "    \n",
      "    Raises\n",
      "    ------\n",
      "    TypeError\n",
      "        If the index is not  a :class:`DatetimeIndex`\n",
      "    \n",
      "    See Also\n",
      "    --------\n",
      "    last : Select final periods of time series based on a date offset.\n",
      "    at_time : Select values at a particular time of the day.\n",
      "    between_time : Select values between particular times of the day.\n",
      "    \n",
      "    Examples\n",
      "    --------\n",
      "    >>> i = pd.date_range('2018-04-09', periods=4, freq='2D')\n",
      "    >>> ts = pd.DataFrame({'A': [1, 2, 3, 4]}, index=i)\n",
      "    >>> ts\n",
      "                A\n",
      "    2018-04-09  1\n",
      "    2018-04-11  2\n",
      "    2018-04-13  3\n",
      "    2018-04-15  4\n",
      "    \n",
      "    Get the rows for the first 3 days:\n",
      "    \n",
      "    >>> ts.first('3D')\n",
      "                A\n",
      "    2018-04-09  1\n",
      "    2018-04-11  2\n",
      "    \n",
      "    Notice the data for 3 first calendar days were returned, not the first\n",
      "    3 days observed in the dataset, and therefore data for 2018-04-13 was\n",
      "    not returned.\n",
      "\n"
     ]
    }
   ],
   "source": [
    "help(players_df.first)"
   ]
  },
  {
   "cell_type": "code",
   "execution_count": 24,
   "id": "465bb522",
   "metadata": {},
   "outputs": [
    {
     "name": "stdout",
     "output_type": "stream",
     "text": [
      "Requirement already satisfied: matplotlib in c:\\users\\pramod challapalli\\appdata\\local\\programs\\python\\python39\\lib\\site-packages (3.4.3)\n",
      "Requirement already satisfied: numpy>=1.16 in c:\\users\\pramod challapalli\\appdata\\local\\programs\\python\\python39\\lib\\site-packages (from matplotlib) (1.21.2)\n",
      "Requirement already satisfied: kiwisolver>=1.0.1 in c:\\users\\pramod challapalli\\appdata\\local\\programs\\python\\python39\\lib\\site-packages (from matplotlib) (1.3.2)\n",
      "Requirement already satisfied: python-dateutil>=2.7 in c:\\users\\pramod challapalli\\appdata\\local\\programs\\python\\python39\\lib\\site-packages (from matplotlib) (2.8.2)\n",
      "Requirement already satisfied: cycler>=0.10 in c:\\users\\pramod challapalli\\appdata\\local\\programs\\python\\python39\\lib\\site-packages (from matplotlib) (0.10.0)\n",
      "Requirement already satisfied: pyparsing>=2.2.1 in c:\\users\\pramod challapalli\\appdata\\local\\programs\\python\\python39\\lib\\site-packages (from matplotlib) (2.4.7)\n",
      "Requirement already satisfied: pillow>=6.2.0 in c:\\users\\pramod challapalli\\appdata\\local\\programs\\python\\python39\\lib\\site-packages (from matplotlib) (8.3.2)\n",
      "Requirement already satisfied: six in c:\\users\\pramod challapalli\\appdata\\local\\programs\\python\\python39\\lib\\site-packages (from cycler>=0.10->matplotlib) (1.16.0)\n",
      "Note: you may need to restart the kernel to use updated packages.\n"
     ]
    }
   ],
   "source": [
    "pip install matplotlib"
   ]
  },
  {
   "cell_type": "code",
   "execution_count": 25,
   "id": "754e0311",
   "metadata": {},
   "outputs": [],
   "source": [
    "import matplotlib as mpl"
   ]
  },
  {
   "cell_type": "code",
   "execution_count": 26,
   "id": "d1b9820e",
   "metadata": {},
   "outputs": [],
   "source": [
    "import matplotlib.pyplot as plt"
   ]
  },
  {
   "cell_type": "code",
   "execution_count": 27,
   "id": "499c13ec",
   "metadata": {},
   "outputs": [
    {
     "data": {
      "image/png": "[encoded data removed]",
      "text/plain": [
       "<Figure size 432x288 with 1 Axes>"
      ]
     },
     "metadata": {
      "needs_background": "light"
     },
     "output_type": "display_data"
    }
   ],
   "source": [
    "years=[2020,2021,2022,2023,2024,2025]\n",
    "apples=[25,34,45,19,27,29]\n",
    "plt.plot(years,apples,'x-b');"
   ]
  },
  {
   "cell_type": "code",
   "execution_count": 30,
   "id": "b4ca38e7",
   "metadata": {},
   "outputs": [
    {
     "data": {
      "text/plain": [
       "array(['India', nan, 'England', 'South Africa', 'Australia', 'Bangladesh',\n",
       "       'Sri Lanka', 'West Indies', 'New Zealand', 'Pakistan',\n",
       "       'Netherlands', 'Zimbabwea'], dtype=object)"
      ]
     },
     "execution_count": 30,
     "metadata": {},
     "output_type": "execute_result"
    }
   ],
   "source": [
    "players_df.Country.unique()"
   ]
  },
  {
   "cell_type": "code",
   "execution_count": 58,
   "id": "41f74bab",
   "metadata": {},
   "outputs": [],
   "source": [
    "players_cnt_df=players_df.groupby('Country')[['Player_Name']].count()\n"
   ]
  },
  {
   "cell_type": "code",
   "execution_count": 67,
   "id": "6d22b564",
   "metadata": {},
   "outputs": [
    {
     "data": {
      "text/html": [
       "<div>\n",
       "<style scoped>\n",
       "    .dataframe tbody tr th:only-of-type {\n",
       "        vertical-align: middle;\n",
       "    }\n",
       "\n",
       "    .dataframe tbody tr th {\n",
       "        vertical-align: top;\n",
       "    }\n",
       "\n",
       "    .dataframe thead th {\n",
       "        text-align: right;\n",
       "    }\n",
       "</style>\n",
       "<table border=\"1\" class=\"dataframe\">\n",
       "  <thead>\n",
       "    <tr style=\"text-align: right;\">\n",
       "      <th></th>\n",
       "      <th>Player_Name</th>\n",
       "    </tr>\n",
       "    <tr>\n",
       "      <th>Country</th>\n",
       "      <th></th>\n",
       "    </tr>\n",
       "  </thead>\n",
       "  <tbody>\n",
       "    <tr>\n",
       "      <th>India</th>\n",
       "      <td>264</td>\n",
       "    </tr>\n",
       "    <tr>\n",
       "      <th>Australia</th>\n",
       "      <td>72</td>\n",
       "    </tr>\n",
       "    <tr>\n",
       "      <th>South Africa</th>\n",
       "      <td>39</td>\n",
       "    </tr>\n",
       "    <tr>\n",
       "      <th>New Zealand</th>\n",
       "      <td>22</td>\n",
       "    </tr>\n",
       "    <tr>\n",
       "      <th>Sri Lanka</th>\n",
       "      <td>20</td>\n",
       "    </tr>\n",
       "    <tr>\n",
       "      <th>West Indies</th>\n",
       "      <td>19</td>\n",
       "    </tr>\n",
       "    <tr>\n",
       "      <th>England</th>\n",
       "      <td>14</td>\n",
       "    </tr>\n",
       "    <tr>\n",
       "      <th>Pakistan</th>\n",
       "      <td>13</td>\n",
       "    </tr>\n",
       "    <tr>\n",
       "      <th>Bangladesh</th>\n",
       "      <td>5</td>\n",
       "    </tr>\n",
       "    <tr>\n",
       "      <th>Zimbabwea</th>\n",
       "      <td>2</td>\n",
       "    </tr>\n",
       "    <tr>\n",
       "      <th>Netherlands</th>\n",
       "      <td>1</td>\n",
       "    </tr>\n",
       "  </tbody>\n",
       "</table>\n",
       "</div>"
      ],
      "text/plain": [
       "              Player_Name\n",
       "Country                  \n",
       "India                 264\n",
       "Australia              72\n",
       "South Africa           39\n",
       "New Zealand            22\n",
       "Sri Lanka              20\n",
       "West Indies            19\n",
       "England                14\n",
       "Pakistan               13\n",
       "Bangladesh              5\n",
       "Zimbabwea               2\n",
       "Netherlands             1"
      ]
     },
     "execution_count": 67,
     "metadata": {},
     "output_type": "execute_result"
    }
   ],
   "source": [
    "players_cnt_df.sort_values(by=['Player_Name'],ascending=False)"
   ]
  },
  {
   "cell_type": "code",
   "execution_count": 121,
   "id": "2bfcb375",
   "metadata": {},
   "outputs": [
    {
     "data": {
      "text/plain": [
       "[264, 72, 39, 22, 20, 19, 14, 13, 5, 2, 1]"
      ]
     },
     "execution_count": 121,
     "metadata": {},
     "output_type": "execute_result"
    }
   ],
   "source": [
    "t_players_df=players_cnt_df.rename(columns={'Player_Name':'Total_Players'})\n",
    "total_players_df=t_players_df.sort_values(by=['Total_Players'],ascending=False)\n",
    "country_list = total_players_df['Total_Players'].tolist()\n",
    "country_list"
   ]
  },
  {
   "cell_type": "code",
   "execution_count": 125,
   "id": "0e486f91",
   "metadata": {},
   "outputs": [],
   "source": [
    "total_players_df['sr_no']=[1,2,3,4,5,6,7,8,9,10,11]"
   ]
  },
  {
   "cell_type": "code",
   "execution_count": 126,
   "id": "17ec743c",
   "metadata": {},
   "outputs": [
    {
     "data": {
      "text/html": [
       "<div>\n",
       "<style scoped>\n",
       "    .dataframe tbody tr th:only-of-type {\n",
       "        vertical-align: middle;\n",
       "    }\n",
       "\n",
       "    .dataframe tbody tr th {\n",
       "        vertical-align: top;\n",
       "    }\n",
       "\n",
       "    .dataframe thead th {\n",
       "        text-align: right;\n",
       "    }\n",
       "</style>\n",
       "<table border=\"1\" class=\"dataframe\">\n",
       "  <thead>\n",
       "    <tr style=\"text-align: right;\">\n",
       "      <th></th>\n",
       "      <th>Total_Players</th>\n",
       "      <th>sr_no</th>\n",
       "    </tr>\n",
       "    <tr>\n",
       "      <th>Country</th>\n",
       "      <th></th>\n",
       "      <th></th>\n",
       "    </tr>\n",
       "  </thead>\n",
       "  <tbody>\n",
       "    <tr>\n",
       "      <th>India</th>\n",
       "      <td>264</td>\n",
       "      <td>1</td>\n",
       "    </tr>\n",
       "    <tr>\n",
       "      <th>Australia</th>\n",
       "      <td>72</td>\n",
       "      <td>2</td>\n",
       "    </tr>\n",
       "    <tr>\n",
       "      <th>South Africa</th>\n",
       "      <td>39</td>\n",
       "      <td>3</td>\n",
       "    </tr>\n",
       "    <tr>\n",
       "      <th>New Zealand</th>\n",
       "      <td>22</td>\n",
       "      <td>4</td>\n",
       "    </tr>\n",
       "    <tr>\n",
       "      <th>Sri Lanka</th>\n",
       "      <td>20</td>\n",
       "      <td>5</td>\n",
       "    </tr>\n",
       "    <tr>\n",
       "      <th>West Indies</th>\n",
       "      <td>19</td>\n",
       "      <td>6</td>\n",
       "    </tr>\n",
       "    <tr>\n",
       "      <th>England</th>\n",
       "      <td>14</td>\n",
       "      <td>7</td>\n",
       "    </tr>\n",
       "    <tr>\n",
       "      <th>Pakistan</th>\n",
       "      <td>13</td>\n",
       "      <td>8</td>\n",
       "    </tr>\n",
       "    <tr>\n",
       "      <th>Bangladesh</th>\n",
       "      <td>5</td>\n",
       "      <td>9</td>\n",
       "    </tr>\n",
       "    <tr>\n",
       "      <th>Zimbabwea</th>\n",
       "      <td>2</td>\n",
       "      <td>10</td>\n",
       "    </tr>\n",
       "    <tr>\n",
       "      <th>Netherlands</th>\n",
       "      <td>1</td>\n",
       "      <td>11</td>\n",
       "    </tr>\n",
       "  </tbody>\n",
       "</table>\n",
       "</div>"
      ],
      "text/plain": [
       "              Total_Players  sr_no\n",
       "Country                           \n",
       "India                   264      1\n",
       "Australia                72      2\n",
       "South Africa             39      3\n",
       "New Zealand              22      4\n",
       "Sri Lanka                20      5\n",
       "West Indies              19      6\n",
       "England                  14      7\n",
       "Pakistan                 13      8\n",
       "Bangladesh                5      9\n",
       "Zimbabwea                 2     10\n",
       "Netherlands               1     11"
      ]
     },
     "execution_count": 126,
     "metadata": {},
     "output_type": "execute_result"
    }
   ],
   "source": [
    "total_players_df"
   ]
  },
  {
   "cell_type": "code",
   "execution_count": 127,
   "id": "cc10498e",
   "metadata": {},
   "outputs": [
    {
     "data": {
      "text/html": [
       "<div>\n",
       "<style scoped>\n",
       "    .dataframe tbody tr th:only-of-type {\n",
       "        vertical-align: middle;\n",
       "    }\n",
       "\n",
       "    .dataframe tbody tr th {\n",
       "        vertical-align: top;\n",
       "    }\n",
       "\n",
       "    .dataframe thead th {\n",
       "        text-align: right;\n",
       "    }\n",
       "</style>\n",
       "<table border=\"1\" class=\"dataframe\">\n",
       "  <thead>\n",
       "    <tr style=\"text-align: right;\">\n",
       "      <th></th>\n",
       "      <th>Total_Players</th>\n",
       "    </tr>\n",
       "    <tr>\n",
       "      <th>sr_no</th>\n",
       "      <th></th>\n",
       "    </tr>\n",
       "  </thead>\n",
       "  <tbody>\n",
       "    <tr>\n",
       "      <th>1</th>\n",
       "      <td>264</td>\n",
       "    </tr>\n",
       "    <tr>\n",
       "      <th>2</th>\n",
       "      <td>72</td>\n",
       "    </tr>\n",
       "    <tr>\n",
       "      <th>3</th>\n",
       "      <td>39</td>\n",
       "    </tr>\n",
       "    <tr>\n",
       "      <th>4</th>\n",
       "      <td>22</td>\n",
       "    </tr>\n",
       "    <tr>\n",
       "      <th>5</th>\n",
       "      <td>20</td>\n",
       "    </tr>\n",
       "    <tr>\n",
       "      <th>6</th>\n",
       "      <td>19</td>\n",
       "    </tr>\n",
       "    <tr>\n",
       "      <th>7</th>\n",
       "      <td>14</td>\n",
       "    </tr>\n",
       "    <tr>\n",
       "      <th>8</th>\n",
       "      <td>13</td>\n",
       "    </tr>\n",
       "    <tr>\n",
       "      <th>9</th>\n",
       "      <td>5</td>\n",
       "    </tr>\n",
       "    <tr>\n",
       "      <th>10</th>\n",
       "      <td>2</td>\n",
       "    </tr>\n",
       "    <tr>\n",
       "      <th>11</th>\n",
       "      <td>1</td>\n",
       "    </tr>\n",
       "  </tbody>\n",
       "</table>\n",
       "</div>"
      ],
      "text/plain": [
       "       Total_Players\n",
       "sr_no               \n",
       "1                264\n",
       "2                 72\n",
       "3                 39\n",
       "4                 22\n",
       "5                 20\n",
       "6                 19\n",
       "7                 14\n",
       "8                 13\n",
       "9                  5\n",
       "10                 2\n",
       "11                 1"
      ]
     },
     "execution_count": 127,
     "metadata": {},
     "output_type": "execute_result"
    }
   ],
   "source": [
    "total_players_df.set_index('sr_no')"
   ]
  },
  {
   "cell_type": "code",
   "execution_count": null,
   "id": "a1d78e70",
   "metadata": {},
   "outputs": [],
   "source": []
  },
  {
   "cell_type": "code",
   "execution_count": 77,
   "id": "52ca6578",
   "metadata": {},
   "outputs": [],
   "source": [
    "import seaborn as sns"
   ]
  },
  {
   "cell_type": "code",
   "execution_count": 45,
   "id": "61fbc8af",
   "metadata": {},
   "outputs": [],
   "source": [
    "from matplotlib.pyplot import figure"
   ]
  },
  {
   "cell_type": "code",
   "execution_count": 111,
   "id": "b3d50608",
   "metadata": {},
   "outputs": [
    {
     "data": {
      "text/html": [
       "<div>\n",
       "<style scoped>\n",
       "    .dataframe tbody tr th:only-of-type {\n",
       "        vertical-align: middle;\n",
       "    }\n",
       "\n",
       "    .dataframe tbody tr th {\n",
       "        vertical-align: top;\n",
       "    }\n",
       "\n",
       "    .dataframe thead th {\n",
       "        text-align: right;\n",
       "    }\n",
       "</style>\n",
       "<table border=\"1\" class=\"dataframe\">\n",
       "  <thead>\n",
       "    <tr style=\"text-align: right;\">\n",
       "      <th></th>\n",
       "      <th>Total_Players</th>\n",
       "    </tr>\n",
       "    <tr>\n",
       "      <th>Country</th>\n",
       "      <th></th>\n",
       "    </tr>\n",
       "  </thead>\n",
       "  <tbody>\n",
       "    <tr>\n",
       "      <th>Australia</th>\n",
       "      <td>72</td>\n",
       "    </tr>\n",
       "    <tr>\n",
       "      <th>Bangladesh</th>\n",
       "      <td>5</td>\n",
       "    </tr>\n",
       "    <tr>\n",
       "      <th>England</th>\n",
       "      <td>14</td>\n",
       "    </tr>\n",
       "    <tr>\n",
       "      <th>India</th>\n",
       "      <td>264</td>\n",
       "    </tr>\n",
       "    <tr>\n",
       "      <th>Netherlands</th>\n",
       "      <td>1</td>\n",
       "    </tr>\n",
       "    <tr>\n",
       "      <th>New Zealand</th>\n",
       "      <td>22</td>\n",
       "    </tr>\n",
       "    <tr>\n",
       "      <th>Pakistan</th>\n",
       "      <td>13</td>\n",
       "    </tr>\n",
       "    <tr>\n",
       "      <th>South Africa</th>\n",
       "      <td>39</td>\n",
       "    </tr>\n",
       "    <tr>\n",
       "      <th>Sri Lanka</th>\n",
       "      <td>20</td>\n",
       "    </tr>\n",
       "    <tr>\n",
       "      <th>West Indies</th>\n",
       "      <td>19</td>\n",
       "    </tr>\n",
       "    <tr>\n",
       "      <th>Zimbabwea</th>\n",
       "      <td>2</td>\n",
       "    </tr>\n",
       "  </tbody>\n",
       "</table>\n",
       "</div>"
      ],
      "text/plain": [
       "              Total_Players\n",
       "Country                    \n",
       "Australia                72\n",
       "Bangladesh                5\n",
       "England                  14\n",
       "India                   264\n",
       "Netherlands               1\n",
       "New Zealand              22\n",
       "Pakistan                 13\n",
       "South Africa             39\n",
       "Sri Lanka                20\n",
       "West Indies              19\n",
       "Zimbabwea                 2"
      ]
     },
     "execution_count": 111,
     "metadata": {},
     "output_type": "execute_result"
    }
   ],
   "source": [
    "total_players_df"
   ]
  },
  {
   "cell_type": "code",
   "execution_count": 108,
   "id": "a913703e",
   "metadata": {},
   "outputs": [],
   "source": [
    "country_list = total_players_df['Total_Players'].tolist()"
   ]
  },
  {
   "cell_type": "code",
   "execution_count": 109,
   "id": "2a2a84fb",
   "metadata": {},
   "outputs": [
    {
     "data": {
      "text/plain": [
       "[72, 5, 14, 264, 1, 22, 13, 39, 20, 19, 2]"
      ]
     },
     "execution_count": 109,
     "metadata": {},
     "output_type": "execute_result"
    }
   ],
   "source": [
    "country_list"
   ]
  },
  {
   "cell_type": "code",
   "execution_count": 105,
   "id": "8ddd3320",
   "metadata": {},
   "outputs": [
    {
     "data": {
      "text/plain": [
       "pandas.core.frame.DataFrame"
      ]
     },
     "execution_count": 105,
     "metadata": {},
     "output_type": "execute_result"
    }
   ],
   "source": [
    "type(total_players_df)"
   ]
  },
  {
   "cell_type": "code",
   "execution_count": null,
   "id": "6f451f45",
   "metadata": {},
   "outputs": [],
   "source": []
  }
 ],
 "metadata": {
  "kernelspec": {
   "display_name": "Python 3 (ipykernel)",
   "language": "python",
   "name": "python3"
  },
  "language_info": {
   "codemirror_mode": {
    "name": "ipython",
    "version": 3
   },
   "file_extension": ".py",
   "mimetype": "text/x-python",
   "name": "python",
   "nbconvert_exporter": "python",
   "pygments_lexer": "ipython3",
   "version": "3.9.7"
  }
 },
 "nbformat": 4,
 "nbformat_minor": 5
}
